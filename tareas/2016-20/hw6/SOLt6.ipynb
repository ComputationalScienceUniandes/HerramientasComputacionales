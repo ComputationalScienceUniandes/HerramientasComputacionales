{
 "cells": [
  {
   "cell_type": "code",
   "execution_count": null,
   "metadata": {
    "collapsed": true
   },
   "outputs": [],
   "source": [
    "# Este comando importa matplotlib y numpy, permitiendo visualizar las graficas en la misma ventana del notebook\n",
    "%pylab inline"
   ]
  },
  {
   "cell_type": "code",
   "execution_count": 1,
   "metadata": {
    "collapsed": false
   },
   "outputs": [
    {
     "name": "stdout",
     "output_type": "stream",
     "text": [
      "Populating the interactive namespace from numpy and matplotlib\n"
     ]
    }
   ],
   "source": [
    "#Define la clase Balon\n",
    "class Balon:\n",
    "    g = 9.8\n",
    "    def __init__(self, x0, vx0, y0, vy0, m0):\n",
    "        \n",
    "        self.x = x0\n",
    "        self.vx = vx0\n",
    "        self.y = y0\n",
    "        self.vy = vy0\n",
    "        self.m = m0\n",
    "        \n",
    "        self.T = []\n",
    "        self.X = []\n",
    "        self.Vx = []\n",
    "        self.Y = []\n",
    "        self.Vy = []\n",
    "        \n",
    "        self.T.append(0)\n",
    "        self.X.append(x0)\n",
    "        self.Vx.append(vx0)\n",
    "        self.Y.append(y0)\n",
    "        self.Vy.append(vy0)\n",
    "        \n",
    "    def calculaFuerza(self):\n",
    "        self.Fy = -self.m*Balon.g\n",
    "        \n",
    "    def muevete(self, dt):\n",
    "        self.x += self.vx*dt\n",
    "        self.y += self.vy*dt\n",
    "        self.vy+=self.Fy/self.m*dt\n",
    "        \n",
    "    def guarda(self, t):\n",
    "        self.T.append(t)\n",
    "        self.X.append(self.x)\n",
    "        self.Vx.append(self.vx)\n",
    "        self.Y.append(self.y)\n",
    "        self.Vy.append(self.vy)\n",
    "        "
   ]
  },
  {
   "cell_type": "code",
   "execution_count": 3,
   "metadata": {
    "collapsed": false
   },
   "outputs": [
    {
     "data": {
      "text/plain": [
       "<matplotlib.text.Text at 0x7f5ab42731d0>"
      ]
     },
     "execution_count": 3,
     "metadata": {},
     "output_type": "execute_result"
    },
    {
     "data": {
      "image/png": "[encoded data removed]",
      "text/plain": [
       "<matplotlib.figure.Figure at 0x7f5a9181a2e8>"
      ]
     },
     "metadata": {},
     "output_type": "display_data"
    }
   ],
   "source": [
    "#Crea el objeto pelota de la clase Balon\n",
    "pelota = Balon(0.0, 10.0, 0.0, 10.0, 0.453)\n",
    "pelota.calculaFuerza()\n",
    "t = 0.0\n",
    "Deltat = 0.01\n",
    "\n",
    "#Realiza los movimientos sucesivos de la pelota, guardando tiempos y posiciones en las respectivas listas\n",
    "while t < 2.0:\n",
    "    pelota.guarda(t)\n",
    "    pelota.muevete(Deltat)\n",
    "    t+=Deltat\n",
    "\n",
    "#Realiza la grafica   \n",
    "plt.plot(pelota.X, pelota.Y)\n",
    "plt.ylabel(\"y\")\n",
    "plt.xlabel(\"x\")"
   ]
  },
  {
   "cell_type": "code",
   "execution_count": null,
   "metadata": {
    "collapsed": true
   },
   "outputs": [],
   "source": []
  }
 ],
 "metadata": {
  "anaconda-cloud": {},
  "kernelspec": {
   "display_name": "Python [Root]",
   "language": "python",
   "name": "Python [Root]"
  },
  "language_info": {
   "codemirror_mode": {
    "name": "ipython",
    "version": 3
   },
   "file_extension": ".py",
   "mimetype": "text/x-python",
   "name": "python",
   "nbconvert_exporter": "python",
   "pygments_lexer": "ipython3",
   "version": "3.5.2"
  }
 },
 "nbformat": 4,
 "nbformat_minor": 0
}
