{
 "cells": [
  {
   "cell_type": "code",
   "execution_count": 1,
   "metadata": {
    "collapsed": false
   },
   "outputs": [
    {
     "name": "stdout",
     "output_type": "stream",
     "text": [
      "Populating the interactive namespace from numpy and matplotlib\n"
     ]
    }
   ],
   "source": [
    "%pylab inline"
   ]
  },
  {
   "cell_type": "code",
   "execution_count": 46,
   "metadata": {
    "collapsed": false
   },
   "outputs": [],
   "source": [
    "#Funcion fy del desplazamiento vertical\n",
    "def f(t, theta):\n",
    "    g = 9.8\n",
    "    v0 = 4.0\n",
    "    y0 = 10.0\n",
    "    return -0.5*g*t**2.0 + v0*np.sin(theta)*t + y0\n",
    "\n",
    "#Funcion de desplazamiento horizontal\n",
    "def fx(t, theta):\n",
    "    v0 = 4.0\n",
    "    return v0*np.cos(theta)*t\n",
    "\n",
    "#Funcion derivada\n",
    "def f_prime(x, theta):\n",
    "    h = 0.001\n",
    "    return ( f(x+h, theta)-f(x, theta) )/h\n",
    "\n",
    "#Funcion que realiza el metodo de newton con n pasos maximos y una tolerancia epsilon\n",
    "def newton(x, n, theta):\n",
    "    epsilon = 0.0001\n",
    "    for i in range(n):\n",
    "        if abs(f(x, theta)) < epsilon:\n",
    "            return x\n",
    "        x = x - f(x, theta)/f_prime(x, theta)\n",
    "    return x"
   ]
  },
  {
   "cell_type": "code",
   "execution_count": 56,
   "metadata": {
    "collapsed": false
   },
   "outputs": [
    {
     "name": "stdout",
     "output_type": "stream",
     "text": [
      "tiempo: 1.74604949802    alcance: 4.93857376136\n"
     ]
    }
   ],
   "source": [
    "# Imprime el tiempo y el alcance maximo para pi/4\n",
    "theta = np.pi/4.0\n",
    "t = newton(0.5, 100, theta)\n",
    "x = fx(t,theta)\n",
    "print(\"tiempo: \"+str(t), \"   alcance: \"+str(x))"
   ]
  },
  {
   "cell_type": "code",
   "execution_count": 64,
   "metadata": {
    "collapsed": false
   },
   "outputs": [
    {
     "name": "stdout",
     "output_type": "stream",
     "text": [
      "Los angulos de tiro son:\n",
      "1pi/16\n",
      "2pi/16\n",
      "3pi/16\n",
      "4pi/16\n",
      "5pi/16\n",
      "6pi/16\n",
      "7pi/16\n",
      "8pi/16\n",
      "9pi/16\n",
      "10pi/16\n",
      "11pi/16\n",
      "12pi/16\n",
      "13pi/16\n",
      "14pi/16\n",
      "15pi/16\n"
     ]
    }
   ],
   "source": [
    "# Crea y llena las listas\n",
    "T = []\n",
    "Theta = []\n",
    "X = []\n",
    "print(\"Los angulos de tiro son:\")\n",
    "for i in range(1,16):\n",
    "    theta = np.pi*i/32.0\n",
    "    t = newton(0.5,100,theta)\n",
    "    x = fx(t,theta)\n",
    "    Theta.append(theta)\n",
    "    T.append(t)\n",
    "    X.append(x)\n",
    "    print(str(i)+\"pi/16\")"
   ]
  },
  {
   "cell_type": "code",
   "execution_count": 65,
   "metadata": {
    "collapsed": false
   },
   "outputs": [
    {
     "data": {
      "text/plain": [
       "<matplotlib.collections.PathCollection at 0x7f2d820358d0>"
      ]
     },
     "execution_count": 65,
     "metadata": {},
     "output_type": "execute_result"
    },
    {
     "data": {
      "image/png": "[encoded data removed]",
      "text/plain": [
       "<matplotlib.figure.Figure at 0x7f2d8213ec18>"
      ]
     },
     "metadata": {},
     "output_type": "display_data"
    }
   ],
   "source": [
    "#Realiza las graficas\n",
    "plt.scatter(Theta,T)"
   ]
  },
  {
   "cell_type": "code",
   "execution_count": 66,
   "metadata": {
    "collapsed": false
   },
   "outputs": [
    {
     "data": {
      "text/plain": [
       "<matplotlib.collections.PathCollection at 0x7f2d81f9b908>"
      ]
     },
     "execution_count": 66,
     "metadata": {},
     "output_type": "execute_result"
    },
    {
     "data": {
      "image/png": "[encoded data removed]",
      "text/plain": [
       "<matplotlib.figure.Figure at 0x7f2d81fc8438>"
      ]
     },
     "metadata": {},
     "output_type": "display_data"
    }
   ],
   "source": [
    "plt.scatter(Theta,X)"
   ]
  }
 ],
 "metadata": {
  "anaconda-cloud": {},
  "kernelspec": {
   "display_name": "Python [Root]",
   "language": "python",
   "name": "Python [Root]"
  },
  "language_info": {
   "codemirror_mode": {
    "name": "ipython",
    "version": 3
   },
   "file_extension": ".py",
   "mimetype": "text/x-python",
   "name": "python",
   "nbconvert_exporter": "python",
   "pygments_lexer": "ipython3",
   "version": "3.5.2"
  }
 },
 "nbformat": 4,
 "nbformat_minor": 0
}
