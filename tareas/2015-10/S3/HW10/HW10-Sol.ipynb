{
 "metadata": {
  "name": "",
  "signature": "sha256:18a588c92953705656fa96cf52d1104a195ab3841d2e67789fc84dcd0785991d"
 },
 "nbformat": 3,
 "nbformat_minor": 0,
 "worksheets": [
  {
   "cells": [
    {
     "cell_type": "markdown",
     "metadata": {},
     "source": [
      "# Taller 10\n",
      "## Universidad de los Andes\n",
      "### Soluci\u00f3n"
     ]
    },
    {
     "cell_type": "code",
     "collapsed": false,
     "input": [
      "%pylab inline"
     ],
     "language": "python",
     "metadata": {},
     "outputs": [
      {
       "output_type": "stream",
       "stream": "stdout",
       "text": [
        "Populating the interactive namespace from numpy and matplotlib\n"
       ]
      }
     ],
     "prompt_number": 5
    },
    {
     "cell_type": "code",
     "collapsed": false,
     "input": [
      "import os\n",
      "dir=\"/Users/juan/Downloads/theGenome/\""
     ],
     "language": "python",
     "metadata": {},
     "outputs": [],
     "prompt_number": 6
    },
    {
     "cell_type": "code",
     "collapsed": false,
     "input": [
      "#%%timeit\n",
      "# Aprox 15s por cada cromosoma\n",
      "# Inicializar los contadores\n",
      "countA=0\n",
      "countT=0\n",
      "countC=0\n",
      "countG=0\n",
      "for i in range(1,23):\n",
      "    print \"Procesando el cromosoma \"+str(i)\n",
      "    # Descomprimir el archivo .gz\n",
      "    os.system(\"gunzip -c \"+dir+\"hs_alt_CHM1_1.1_chr\"+str(i)+\".fa.gz > \"+dir+\"chr\"+str(i)+\".fa\")\n",
      "    # Abrir el archivo\n",
      "    file=open(dir+\"chr\"+str(i)+\".fa\",'r')\n",
      "    # Saltar el encabezado\n",
      "    next(file)\n",
      "    # Hacer cuentas l\u00ednea por l\u00ednea\n",
      "    for stu in file:\n",
      "        countA+=stu.count('A')\n",
      "        countT+=stu.count('T')\n",
      "        countC+=stu.count('C')\n",
      "        countG+=stu.count('G')\n",
      "    # Cerrar el archivo\n",
      "    file.close()\n",
      "    # Eliminar el archivo .fa\n",
      "    os.system(\"rm \"+dir+\"chr\"+str(i)+\".fa\")\n",
      "print \"Adenina: \"+str(countA)\n",
      "print \"Timina: \"+str(countT)\n",
      "print \"Citosina: \"+str(countC)\n",
      "print \"Guanina: \"+str(countG)"
     ],
     "language": "python",
     "metadata": {},
     "outputs": [
      {
       "output_type": "stream",
       "stream": "stdout",
       "text": [
        "Procesando el cromosoma 1\n",
        "Procesando el cromosoma 2"
       ]
      },
      {
       "output_type": "stream",
       "stream": "stdout",
       "text": [
        "\n",
        "Procesando el cromosoma 3"
       ]
      },
      {
       "output_type": "stream",
       "stream": "stdout",
       "text": [
        "\n",
        "Procesando el cromosoma 4"
       ]
      },
      {
       "output_type": "stream",
       "stream": "stdout",
       "text": [
        "\n",
        "Procesando el cromosoma 5"
       ]
      },
      {
       "output_type": "stream",
       "stream": "stdout",
       "text": [
        "\n",
        "Procesando el cromosoma 6"
       ]
      },
      {
       "output_type": "stream",
       "stream": "stdout",
       "text": [
        "\n",
        "Procesando el cromosoma 7"
       ]
      },
      {
       "output_type": "stream",
       "stream": "stdout",
       "text": [
        "\n",
        "Procesando el cromosoma 8"
       ]
      },
      {
       "output_type": "stream",
       "stream": "stdout",
       "text": [
        "\n",
        "Procesando el cromosoma 9"
       ]
      },
      {
       "output_type": "stream",
       "stream": "stdout",
       "text": [
        "\n",
        "Procesando el cromosoma 10"
       ]
      },
      {
       "output_type": "stream",
       "stream": "stdout",
       "text": [
        "\n",
        "Procesando el cromosoma 11"
       ]
      },
      {
       "output_type": "stream",
       "stream": "stdout",
       "text": [
        "\n",
        "Procesando el cromosoma 12"
       ]
      },
      {
       "output_type": "stream",
       "stream": "stdout",
       "text": [
        "\n",
        "Procesando el cromosoma 13"
       ]
      },
      {
       "output_type": "stream",
       "stream": "stdout",
       "text": [
        "\n",
        "Procesando el cromosoma 14"
       ]
      },
      {
       "output_type": "stream",
       "stream": "stdout",
       "text": [
        "\n",
        "Procesando el cromosoma 15"
       ]
      },
      {
       "output_type": "stream",
       "stream": "stdout",
       "text": [
        "\n",
        "Procesando el cromosoma 16"
       ]
      },
      {
       "output_type": "stream",
       "stream": "stdout",
       "text": [
        "\n",
        "Procesando el cromosoma 17"
       ]
      },
      {
       "output_type": "stream",
       "stream": "stdout",
       "text": [
        "\n",
        "Procesando el cromosoma 18"
       ]
      },
      {
       "output_type": "stream",
       "stream": "stdout",
       "text": [
        "\n",
        "Procesando el cromosoma 19"
       ]
      },
      {
       "output_type": "stream",
       "stream": "stdout",
       "text": [
        "\n",
        "Procesando el cromosoma 20"
       ]
      },
      {
       "output_type": "stream",
       "stream": "stdout",
       "text": [
        "\n",
        "Procesando el cromosoma 21"
       ]
      },
      {
       "output_type": "stream",
       "stream": "stdout",
       "text": [
        "\n",
        "Procesando el cromosoma 22"
       ]
      },
      {
       "output_type": "stream",
       "stream": "stdout",
       "text": [
        "\n",
        "Adenina: 789545480"
       ]
      },
      {
       "output_type": "stream",
       "stream": "stdout",
       "text": [
        "\n",
        "Timina: 790577982\n",
        "Citosina: 548794799\n",
        "Guanina: 549028262\n"
       ]
      }
     ],
     "prompt_number": 7
    },
    {
     "cell_type": "code",
     "collapsed": false,
     "input": [
      "# Inicializar los contadores\n",
      "countA=[]\n",
      "countT=[]\n",
      "countC=[]\n",
      "countG=[]\n",
      "for i in range(1,23):\n",
      "    print \"Procesando el cromosoma: \"+str(i)\n",
      "    # Descomprimir el archivo .gz\n",
      "    os.system(\"gunzip -c \"+dir+\"hs_alt_CHM1_1.1_chr\"+str(i)+\".fa.gz > \"+dir+\"chr\"+str(i)+\".fa\")\n",
      "    # Abrir el archivo\n",
      "    file=open(dir+\"chr\"+str(i)+\".fa\",'r')\n",
      "    # Saltar el encabezado\n",
      "    next(file)\n",
      "    # Hacer cuentas l\u00ednea por l\u00ednea\n",
      "    for stu in file:\n",
      "        countA.append(stu.count('A'))\n",
      "        countT.append(stu.count('T'))\n",
      "        countC.append(stu.count('C'))\n",
      "        countG.append(stu.count('G'))\n",
      "    # Cerrar el archivo\n",
      "    file.close()\n",
      "    # Eliminar el archivo .fa\n",
      "    os.system(\"rm \"+dir+\"chr\"+str(i)+\".fa\")"
     ],
     "language": "python",
     "metadata": {},
     "outputs": [
      {
       "output_type": "stream",
       "stream": "stdout",
       "text": [
        "Procesando el chromosoma: 1\n",
        "Procesando el chromosoma: 2"
       ]
      },
      {
       "output_type": "stream",
       "stream": "stdout",
       "text": [
        "\n",
        "Procesando el chromosoma: 3"
       ]
      },
      {
       "output_type": "stream",
       "stream": "stdout",
       "text": [
        "\n",
        "Procesando el chromosoma: 4"
       ]
      },
      {
       "output_type": "stream",
       "stream": "stdout",
       "text": [
        "\n",
        "Procesando el chromosoma: 5"
       ]
      },
      {
       "output_type": "stream",
       "stream": "stdout",
       "text": [
        "\n",
        "Procesando el chromosoma: 6"
       ]
      },
      {
       "output_type": "stream",
       "stream": "stdout",
       "text": [
        "\n",
        "Procesando el chromosoma: 7"
       ]
      },
      {
       "output_type": "stream",
       "stream": "stdout",
       "text": [
        "\n",
        "Procesando el chromosoma: 8"
       ]
      },
      {
       "output_type": "stream",
       "stream": "stdout",
       "text": [
        "\n",
        "Procesando el chromosoma: 9"
       ]
      },
      {
       "output_type": "stream",
       "stream": "stdout",
       "text": [
        "\n",
        "Procesando el chromosoma: 10"
       ]
      },
      {
       "output_type": "stream",
       "stream": "stdout",
       "text": [
        "\n",
        "Procesando el chromosoma: 11"
       ]
      },
      {
       "output_type": "stream",
       "stream": "stdout",
       "text": [
        "\n",
        "Procesando el chromosoma: 12"
       ]
      },
      {
       "output_type": "stream",
       "stream": "stdout",
       "text": [
        "\n",
        "Procesando el chromosoma: 13"
       ]
      },
      {
       "output_type": "stream",
       "stream": "stdout",
       "text": [
        "\n",
        "Procesando el chromosoma: 14"
       ]
      },
      {
       "output_type": "stream",
       "stream": "stdout",
       "text": [
        "\n",
        "Procesando el chromosoma: 15"
       ]
      },
      {
       "output_type": "stream",
       "stream": "stdout",
       "text": [
        "\n",
        "Procesando el chromosoma: 16"
       ]
      },
      {
       "output_type": "stream",
       "stream": "stdout",
       "text": [
        "\n",
        "Procesando el chromosoma: 17"
       ]
      },
      {
       "output_type": "stream",
       "stream": "stdout",
       "text": [
        "\n",
        "Procesando el chromosoma: 18"
       ]
      },
      {
       "output_type": "stream",
       "stream": "stdout",
       "text": [
        "\n",
        "Procesando el chromosoma: 19"
       ]
      },
      {
       "output_type": "stream",
       "stream": "stdout",
       "text": [
        "\n",
        "Procesando el chromosoma: 20"
       ]
      },
      {
       "output_type": "stream",
       "stream": "stdout",
       "text": [
        "\n",
        "Procesando el chromosoma: 21"
       ]
      },
      {
       "output_type": "stream",
       "stream": "stdout",
       "text": [
        "\n",
        "Procesando el chromosoma: 22"
       ]
      },
      {
       "output_type": "stream",
       "stream": "stdout",
       "text": [
        "\n"
       ]
      }
     ],
     "prompt_number": 9
    },
    {
     "cell_type": "code",
     "collapsed": false,
     "input": [
      "# Guardar los resultados para evitar tener que volver a calcularlos\n",
      "import pickle\n",
      "#from http://stackoverflow.com/questions/4529815/how-to-save-an-object-in-python\n",
      "def save_object(obj, filename):\n",
      "    with open(filename, 'wb') as output:\n",
      "        pickle.dump(obj, output, pickle.HIGHEST_PROTOCOL)\n",
      "save_object(countA,'countA.pkl')\n",
      "save_object(countC,'countC.pkl')\n",
      "save_object(countG,'countG.pkl')\n",
      "save_object(countT,'countT.pkl')"
     ],
     "language": "python",
     "metadata": {},
     "outputs": [],
     "prompt_number": 12
    },
    {
     "cell_type": "code",
     "collapsed": false,
     "input": [
      "print \"--El genoma humano, en trozos de 70---\"\n",
      "print \"-------------Adenina------------------\"\n",
      "print \"promedio = \"+str(average(countA))\n",
      "print u\"desviaci\u00f3n est\u00e1ndar = \"+str(std(countA))\n",
      "print u\"mediana = \"+str(median(countA))\n",
      "print \"--------------Timina------------------\"\n",
      "print \"promedio = \"+str(average(countT))\n",
      "print u\"desviaci\u00f3n est\u00e1ndar = \"+str(std(countT))\n",
      "print u\"mediana = \"+str(median(countT))\n",
      "print \"-------------Citosina-----------------\"\n",
      "print \"promedio = \"+str(average(countC))\n",
      "print u\"desviaci\u00f3n est\u00e1ndar = \"+str(std(countC))\n",
      "print u\"mediana = \"+str(median(countC))\n",
      "print \"-------------Guanina------------------\"\n",
      "print \"promedio = \"+str(average(countG))\n",
      "print u\"desviaci\u00f3n est\u00e1ndar = \"+str(std(countG))\n",
      "print u\"mediana = \"+str(median(countG))\n",
      "print \"--------------------------------------\""
     ],
     "language": "python",
     "metadata": {},
     "outputs": [
      {
       "output_type": "stream",
       "stream": "stdout",
       "text": [
        "--El genoma humano, en trozos de 70---\n",
        "-------------Adenina------------------\n",
        "promedio = 20.5217548612"
       ]
      },
      {
       "output_type": "stream",
       "stream": "stdout",
       "text": [
        "\n",
        "desviaci\u00f3n est\u00e1ndar = 6.72162269948"
       ]
      },
      {
       "output_type": "stream",
       "stream": "stdout",
       "text": [
        "\n",
        "mediana = 20.0"
       ]
      },
      {
       "output_type": "stream",
       "stream": "stdout",
       "text": [
        "\n",
        "--------------Timina------------------\n",
        "promedio = 20.5485915077"
       ]
      },
      {
       "output_type": "stream",
       "stream": "stdout",
       "text": [
        "\n",
        "desviaci\u00f3n est\u00e1ndar = 6.72490311503"
       ]
      },
      {
       "output_type": "stream",
       "stream": "stdout",
       "text": [
        "\n",
        "mediana = 20.0"
       ]
      },
      {
       "output_type": "stream",
       "stream": "stdout",
       "text": [
        "\n",
        "-------------Citosina-----------------\n",
        "promedio = 14.2641970848"
       ]
      },
      {
       "output_type": "stream",
       "stream": "stdout",
       "text": [
        "\n",
        "desviaci\u00f3n est\u00e1ndar = 5.654435253"
       ]
      },
      {
       "output_type": "stream",
       "stream": "stdout",
       "text": [
        "\n",
        "mediana = 14.0"
       ]
      },
      {
       "output_type": "stream",
       "stream": "stdout",
       "text": [
        "\n",
        "-------------Guanina------------------\n",
        "promedio = 14.2702652222"
       ]
      },
      {
       "output_type": "stream",
       "stream": "stdout",
       "text": [
        "\n",
        "desviaci\u00f3n est\u00e1ndar = 5.65224083042"
       ]
      },
      {
       "output_type": "stream",
       "stream": "stdout",
       "text": [
        "\n",
        "mediana = 14.0"
       ]
      },
      {
       "output_type": "stream",
       "stream": "stdout",
       "text": [
        "\n",
        "--------------------------------------\n"
       ]
      }
     ],
     "prompt_number": 17
    },
    {
     "cell_type": "code",
     "collapsed": false,
     "input": [
      "figure(figsize=(15,12))\n",
      "subplot(3,1,1)\n",
      "hist((countG,countC),40,range=(1,40),histtype='bar',label=('Guanina','Citosina'),normed='true',cumulative='true',color=['blue','red'])\n",
      "ylim(0,1.1)\n",
      "legend()\n",
      "title(u\"\\nEstudio de la frecuencia de las bases nitrogenadas \\nen los autosomas del genoma humano.\\n\",fontsize=18)\n",
      "subplot(3,1,2)\n",
      "hist((countA,countT),40,range=(1,40),histtype='bar',label=('Adenina','Timina'),normed='true',cumulative='true',color=['yellow','black'])\n",
      "ylim(0,1.1)\n",
      "ylabel(\"$f_a$\",fontsize=18)\n",
      "legend()\n",
      "subplot(3,1,3)\n",
      "hist((countG,countA),40,range=(1,40),histtype='bar',label=('Guanina','Adenina'),normed='true',cumulative='true',color=['blue','yellow'])\n",
      "ylim(0,1.1)\n",
      "xlabel(\"N\",fontsize=18)\n",
      "legend()\n",
      "savefig(\"/Users/juan/Dropbox/UAndes/Herramientas-Computacionales-Private/Talleres/HW10/bases.pdf\")\n",
      "show()"
     ],
     "language": "python",
     "metadata": {},
     "outputs": [
      {
       "metadata": {},
       "output_type": "display_data",
       "png": "[encoded data removed]",
       "text": [
        "<matplotlib.figure.Figure at 0x106724fd0>"
       ]
      }
     ],
     "prompt_number": 16
    }
   ],
   "metadata": {}
  }
 ]
}