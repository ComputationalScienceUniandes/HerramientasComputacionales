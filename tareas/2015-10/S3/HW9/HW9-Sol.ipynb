{
 "metadata": {
  "name": "",
  "signature": "sha256:dc4fa20ce3ef42f2558c8aec6fc0083de06d5b77465f2bfec6a5de3b1dfae97a"
 },
 "nbformat": 3,
 "nbformat_minor": 0,
 "worksheets": [
  {
   "cells": [
    {
     "cell_type": "markdown",
     "metadata": {},
     "source": [
      "#Herramientas Computacionales\n",
      "##Taller 9\n",
      "###Soluci\u00f3n"
     ]
    },
    {
     "cell_type": "code",
     "collapsed": false,
     "input": [
      "%pylab inline"
     ],
     "language": "python",
     "metadata": {},
     "outputs": [
      {
       "output_type": "stream",
       "stream": "stdout",
       "text": [
        "Populating the interactive namespace from numpy and matplotlib\n"
       ]
      }
     ],
     "prompt_number": 2
    },
    {
     "cell_type": "markdown",
     "metadata": {},
     "source": [
      "#1 Giro de Italia"
     ]
    },
    {
     "cell_type": "code",
     "collapsed": false,
     "input": [
      "# La primera columna tiene el nombre del corredor,\n",
      "# la segunda columna su nacionalidad,\n",
      "# la tercera columna el equipo,\n",
      "# y el resto los tiempos acumulados para las diferentes etapas.\n",
      "elgiro=genfromtxt(\"giro_2014.csv\",delimiter=\",\",skiprows=1)"
     ],
     "language": "python",
     "metadata": {},
     "outputs": [],
     "prompt_number": 2
    },
    {
     "cell_type": "code",
     "collapsed": false,
     "input": [
      "!head -1 giro_2014.csv"
     ],
     "language": "python",
     "metadata": {},
     "outputs": [
      {
       "output_type": "stream",
       "stream": "stdout",
       "text": [
        "\"nome\",\"naz\",\"team\",\"tempo.1\",\"tempo.2\",\"tempo.3\",\"tempo.4\",\"tempo.5\",\"tempo.6\",\"tempo.7\",\"tempo.8\",\"tempo.9\",\"tempo.10\",\"tempo.11\",\"tempo.12\",\"tempo.13\",\"tempo.14\",\"tempo.15\",\"tempo.16\",\"tempo.17\",\"tempo.18\",\"tempo.19\",\"tempo.20\",\"tempo.21\"\r\n"
       ]
      }
     ],
     "prompt_number": 2
    },
    {
     "cell_type": "code",
     "collapsed": false,
     "input": [
      "# Crear una lista de listas con los tiempos para las diferentes etapas\n",
      "etapas=[]\n",
      "for i in range(21):\n",
      "    #tomar la columna apropiada\n",
      "    tempo=elgiro[:,3+i]\n",
      "    #limpiar los nan\n",
      "    tempol=[]\n",
      "    for t in tempo:\n",
      "        if t>0:\n",
      "            tempol.append(t)\n",
      "    etapas.append(tempol)"
     ],
     "language": "python",
     "metadata": {},
     "outputs": [],
     "prompt_number": 4
    },
    {
     "cell_type": "code",
     "collapsed": false,
     "input": [
      "figure(figsize=(10,5))\n",
      "subplot(2,1,1)\n",
      "title(\"El Giro 2014 (tiempos acumulados)\")\n",
      "hist(array(etapas[1])/60.,label='etapa 2')\n",
      "legend()\n",
      "ylabel(\"frecuencia\")\n",
      "xlim(338,348)\n",
      "subplot(2,1,2)\n",
      "title(\"\")\n",
      "hist(array(etapas[20])/60.,label='etapa 21',color=\"r\")\n",
      "xlabel(\"t/min\")\n",
      "ylabel(\"frecuencia\")\n",
      "xlim(5300,5650)\n",
      "legend()\n",
      "savefig(\"/Users/juan/Dropbox/UAndes/Herramientas-Computacionales-Private/Talleres/HW9/elgirodist.pdf\")\n",
      "show()"
     ],
     "language": "python",
     "metadata": {},
     "outputs": [
      {
       "metadata": {},
       "output_type": "display_data",
       "png": "[encoded data removed]",
       "text": [
        "<matplotlib.figure.Figure at 0x10674d050>"
       ]
      }
     ],
     "prompt_number": 6
    },
    {
     "cell_type": "code",
     "collapsed": false,
     "input": [
      "# Eliminar todas las filas donde el corredor se haya retirado\n",
      "!grep -v \",NA\" giro_2014.csv  > cleangiro.csv"
     ],
     "language": "python",
     "metadata": {},
     "outputs": [],
     "prompt_number": 3
    },
    {
     "cell_type": "code",
     "collapsed": false,
     "input": [
      "# La primera columna tiene el nombre del corredor,\n",
      "# la segunda columna su nacionalidad,\n",
      "# la tercera columna el equipo,\n",
      "# y el resto los tiempos acumulados para las diferentes etapas.\n",
      "cleangiro=genfromtxt(\"cleangiro.csv\",delimiter=\",\",skiprows=1)"
     ],
     "language": "python",
     "metadata": {},
     "outputs": [],
     "prompt_number": 4
    },
    {
     "cell_type": "code",
     "collapsed": false,
     "input": [
      "# Crear una lista de listas con los tiempos para las diferentes etapas\n",
      "etapas=[]\n",
      "for i in range(21):\n",
      "    #tomar la columna apropiada\n",
      "    tempo=cleangiro[:,3+i]\n",
      "    etapas.append(tempo)\n",
      "etapassolas=[etapas[0]]\n",
      "for i in range(1,21):\n",
      "        etapassolas.append(etapas[i]-etapas[i-1])\n",
      "# Ahora calcular la lista normalizada de acuerdo al tiempo m\u00ednimo\n",
      "# Hubiera dado lo mismo calcul\u00e1ndo a partir de la lista etapas\n",
      "etapasnorm=[]\n",
      "for i in range(21):\n",
      "    elmin=min(etapassolas[i])\n",
      "    etapasnorm.append([(t-elmin)/elmin*100 for t in etapassolas[i]])"
     ],
     "language": "python",
     "metadata": {},
     "outputs": [],
     "prompt_number": 5
    },
    {
     "cell_type": "code",
     "collapsed": false,
     "input": [
      "flattened=array([item for sublist in etapasnorm for item in sublist])"
     ],
     "language": "python",
     "metadata": {},
     "outputs": [],
     "prompt_number": 6
    },
    {
     "cell_type": "code",
     "collapsed": false,
     "input": [
      "figure(figsize=(10,5))\n",
      "hist(flattened,bins=5,range=(0,25),normed=True,color=\"g\")\n",
      "#xlim(0,3000)\n",
      "xlabel(r\"$\\Delta t / tmin (\\%)$\")\n",
      "ylabel(r\"$p$\")\n",
      "title(u\"Distribuci\u00f3n de tiempos relativos de llegada despu\u00e9s del ganador de la etapa\")\n",
      "savefig(\"/Users/juan/Dropbox/UAndes/Herramientas-Computacionales-Private/Talleres/HW9/tiempostodogiro.pdf\")\n",
      "show()\n"
     ],
     "language": "python",
     "metadata": {},
     "outputs": [
      {
       "metadata": {},
       "output_type": "display_data",
       "png": "[encoded data removed]",
       "text": [
        "<matplotlib.figure.Figure at 0x107082150>"
       ]
      }
     ],
     "prompt_number": 116
    },
    {
     "cell_type": "code",
     "collapsed": false,
     "input": [
      "# Giro alternativo, sin usar awk\n",
      "giro=genfromtxt(\"/Users/phoenix/Dropbox/Python/notebooks/HC/giro_2014.csv\",delimiter=\",\",skiprows=1,usecols=range(3,24))\n",
      "# Solo tomar las filas de los corredores que terminaron\n",
      "etapas0=[]\n",
      "laultimaetapa=giro[:,-1]\n",
      "for i in range(len(giro)):\n",
      "    if str(laultimaetapa[i])!=\"nan\":\n",
      "        etapas0.append(array(giro[i]))\n",
      "etapas=[]\n",
      "for i in range(21):\n",
      "    laetapa=[]\n",
      "    for j in range(len(etapas0)):\n",
      "        laetapa.append(etapas0[j][i])\n",
      "    etapas.append(laetapa) \n",
      "\n",
      "# Calcular los tiempos de cada etapa\n",
      "lasverdaderasetapas=[etapas[0]]\n",
      "for i in range(20):\n",
      "    lasverdaderasetapas.append(array(etapas[i+1])-array(etapas[i]))\n",
      "\n",
      "# Calcular los tiempos relativos\n",
      "trelativos=[]\n",
      "for etapa in lasverdaderasetapas:\n",
      "    tganador=min(etapa)\n",
      "    trelativos.append((array(etapa)-tganador)/tganador)\n",
      "\n",
      "# Flatten la lista\n",
      "todoslostiempos=[]\n",
      "for etapa in trelativos:\n",
      "    for tiempo in etapa:\n",
      "        todoslostiempos.append(tiempo)\n",
      "        \n",
      "# Hacer la gr\u00e1fica\n",
      "figure()\n",
      "hist(100*array(todoslostiempos),bins=5,range=(0,25),normed=True)\n",
      "show()"
     ],
     "language": "python",
     "metadata": {},
     "outputs": [
      {
       "metadata": {},
       "output_type": "display_data",
       "png": "[encoded data removed]",
       "text": [
        "<matplotlib.figure.Figure at 0x1062ff490>"
       ]
      }
     ],
     "prompt_number": 4
    },
    {
     "cell_type": "markdown",
     "metadata": {},
     "source": [
      "#2 Distribuci\u00f3n Binormal"
     ]
    },
    {
     "cell_type": "code",
     "collapsed": false,
     "input": [
      "binormalnums=[]\n",
      "for i in range(10000):\n",
      "    if random.randint(0,2):\n",
      "        binormalnums.append(random.normal(10,2))\n",
      "    else:\n",
      "        binormalnums.append(random.normal(20,2))\n",
      "binormalnums=array(binormalnums)"
     ],
     "language": "python",
     "metadata": {},
     "outputs": [],
     "prompt_number": 2
    },
    {
     "cell_type": "code",
     "collapsed": false,
     "input": [
      "figure(figsize(10,5))\n",
      "hist(binormalnums,bins=25,normed='true')\n",
      "xlabel(\"x\")\n",
      "ylabel(\"p(x)\")\n",
      "title(u\"Distribuci\u00f3n binormal PDF\")\n",
      "savefig(\"/Users/juan/Dropbox/UAndes/Herramientas-Computacionales-Private/Talleres/HW9/binormalPDF.pdf\")\n",
      "show()"
     ],
     "language": "python",
     "metadata": {},
     "outputs": [
      {
       "metadata": {},
       "output_type": "display_data",
       "png": "[encoded data removed]",
       "text": [
        "<matplotlib.figure.Figure at 0x1061b5310>"
       ]
      }
     ],
     "prompt_number": 3
    },
    {
     "cell_type": "code",
     "collapsed": false,
     "input": [
      "figure(figsize(10,5))\n",
      "hist(binormalnums,bins=25,normed=True,cumulative=True,color=\"orange\")\n",
      "xlim(0,27)\n",
      "xlabel(\"x\")\n",
      "title(u\"Distribuci\u00f3n binormal CDF\")\n",
      "savefig(\"/Users/juan/Dropbox/UAndes/Herramientas-Computacionales-Private/Talleres/HW9/binormalCDF.pdf\")\n",
      "show()"
     ],
     "language": "python",
     "metadata": {},
     "outputs": [
      {
       "metadata": {},
       "output_type": "display_data",
       "png": "[encoded data removed]",
       "text": [
        "<matplotlib.figure.Figure at 0x1063cbf90>"
       ]
      }
     ],
     "prompt_number": 4
    },
    {
     "cell_type": "code",
     "collapsed": false,
     "input": [
      "# crear una funci\u00f3n que interpole el histograma cumulativo normalizado\n",
      "# binsize=1\n",
      "cuentas=[]\n",
      "for i in range(28):\n",
      "    cuentas.append(len(where( binormalnums <= i)[0]))\n",
      "themax=float(max(cuentas))\n",
      "cuentas=array(cuentas)/themax\n",
      "# Mejor usar las rutinas ya integradas\n",
      "cuentas=cumsum(histogram(binormalnums,range(30))[0])/10000."
     ],
     "language": "python",
     "metadata": {},
     "outputs": [],
     "prompt_number": 21
    },
    {
     "cell_type": "code",
     "collapsed": false,
     "input": [
      "from scipy.interpolate import interp1d\n",
      "# Esta es la funci\u00f3n CDF inversa\n",
      "f = interp1d(cuentas,range(29))"
     ],
     "language": "python",
     "metadata": {},
     "outputs": [],
     "prompt_number": 24
    },
    {
     "cell_type": "code",
     "collapsed": false,
     "input": [
      "xvals=linspace(0,1,100)\n",
      "figure()\n",
      "plot(xvals,f(xvals))\n",
      "show()"
     ],
     "language": "python",
     "metadata": {},
     "outputs": [
      {
       "metadata": {},
       "output_type": "display_data",
       "png": "[encoded data removed]",
       "text": [
        "<matplotlib.figure.Figure at 0x10749c2d0>"
       ]
      }
     ],
     "prompt_number": 25
    },
    {
     "cell_type": "code",
     "collapsed": false,
     "input": [
      "def random_2normal(nums):\n",
      "    return f(random.random(nums))"
     ],
     "language": "python",
     "metadata": {},
     "outputs": [],
     "prompt_number": 27
    },
    {
     "cell_type": "code",
     "collapsed": false,
     "input": [
      "thenums=random_2normal(10000)"
     ],
     "language": "python",
     "metadata": {},
     "outputs": [],
     "prompt_number": 28
    },
    {
     "cell_type": "code",
     "collapsed": false,
     "input": [
      "# Recup\u00e9rase el histograma original\n",
      "figure()\n",
      "hist(thenums,bins=25,normed=True)\n",
      "show()"
     ],
     "language": "python",
     "metadata": {},
     "outputs": [
      {
       "metadata": {},
       "output_type": "display_data",
       "png": "[encoded data removed]",
       "text": [
        "<matplotlib.figure.Figure at 0x1074fc050>"
       ]
      }
     ],
     "prompt_number": 30
    },
    {
     "cell_type": "code",
     "collapsed": false,
     "input": [],
     "language": "python",
     "metadata": {},
     "outputs": []
    }
   ],
   "metadata": {}
  }
 ]
}