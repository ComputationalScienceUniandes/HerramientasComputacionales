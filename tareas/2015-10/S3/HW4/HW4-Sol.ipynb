{
 "metadata": {
  "name": "",
  "signature": "sha256:9185e37570568b45b310d52516b38735e93e725d00c88881c52496b5dca16a94"
 },
 "nbformat": 3,
 "nbformat_minor": 0,
 "worksheets": [
  {
   "cells": [
    {
     "cell_type": "markdown",
     "metadata": {},
     "source": [
      "# Taller 4 - Soluci\u00f3n \n",
      "## Herramientas Computacionales\n",
      "### Universidad de los Andes\n",
      "#### 2015"
     ]
    },
    {
     "cell_type": "heading",
     "level": 2,
     "metadata": {},
     "source": [
      "Imprimiendo en espiral"
     ]
    },
    {
     "cell_type": "code",
     "collapsed": false,
     "input": [
      "import sys\n",
      "import time\n",
      "from IPython.display import display, clear_output\n",
      "n=7 # Este es el lado de la matriz cuadrada\n",
      "# Se inicializa toda la matriz con ceros\n",
      "mat=[[0 for i in range(n)] for j in range(n)]\n",
      "# Lo siguiente para comenzar en la esquina superior izquierda\n",
      "i=0\n",
      "j=0\n",
      "# Cuatro modos: a la derecha (0), abajo (1), izquierda (2) y arriba (3).\n",
      "# Si se \"choca\" contra el borde de la matriz o con un elemento ya \n",
      "# relleno entonces se cambia de modo.\n",
      "# Comenzar movi\u00e9ndose hacia la derecha.\n",
      "mode=0\n",
      "for k in range(1,n*n+1):\n",
      "    # Rellenar el elemento actual con el n\u00famero correspondiente\n",
      "    mat[i][j]=k\n",
      "    # Decidir el modo\n",
      "    if mode == 0:\n",
      "        if j==n-1 or mat[i][j+1]>0:\n",
      "            mode=1\n",
      "    elif mode == 1:\n",
      "        if i==n-1 or mat[i+1][j]>0:\n",
      "            mode=2\n",
      "    elif mode == 2:\n",
      "        if j==0 or mat[i][j-1]>0:\n",
      "            mode=3\n",
      "    elif mode == 3:\n",
      "        if i==0 or mat[i-1][j]>0:\n",
      "            mode=0\n",
      "    # Actuar de acuerdo al modo\n",
      "    if mode == 0:\n",
      "        j+=1\n",
      "    elif mode == 1:\n",
      "        i+=1\n",
      "    elif mode == 2:\n",
      "        j-=1\n",
      "    elif mode == 3:\n",
      "        i-=1\n",
      "    time.sleep(0.1)\n",
      "    clear_output(wait=True)\n",
      "    for line in mat:\n",
      "        for cell in line:\n",
      "            print '%02d' % cell,\n",
      "        print\n",
      "    sys.stdout.flush() "
     ],
     "language": "python",
     "metadata": {},
     "outputs": [
      {
       "output_type": "stream",
       "stream": "stdout",
       "text": [
        "01 02 03 04 05 06 07\n",
        "24 25 26 27 28 29 08\n",
        "23 40 41 42 43 30 09\n",
        "22 39 48 49 44 31 10\n",
        "21 38 47 46 45 32 11\n",
        "20 37 36 35 34 33 12\n",
        "19 18 17 16 15 14 13\n"
       ]
      }
     ],
     "prompt_number": 1
    },
    {
     "cell_type": "heading",
     "level": 2,
     "metadata": {},
     "source": [
      "Criptograf\u00eda"
     ]
    },
    {
     "cell_type": "code",
     "collapsed": false,
     "input": [
      "# Codificar\n",
      "message=\"Call me Ishmael.  Some years ago--never mind how long precisely--having little or no money in my purse, and nothing particular to interest me on shore, I thought I would sail about a little and see the watery part of the world.  It is a way I have of driving off the spleen and regulating the circulation.  Whenever I find myself growing grim about the mouth; whenever it is a damp, drizzly November in my soul; whenever I find myself involuntarily pausing before coffin warehouses, and bringing up the rear of every funeral I meet; and especially whenever my hypos get such an upper hand of me, that it requires a strong moral principle to prevent me from deliberately stepping into the street, and methodically knocking people's hats off--then, I account it high time to get to sea as soon as I can.  This is my substitute for pistol and ball.  With a philosophical flourish Cato throws himself upon his sword; I quietly take to the ship.  There is nothing surprising in this.  If they but knew it, almost all men in their degree, some time or other, cherish very nearly the same feelings towards the ocean with me.\"\n",
      "encrypted=\"\"\n",
      "j=1\n",
      "for i in message:\n",
      "    encrypted=encrypted+chr(ord(i)+j%5)\n",
      "    j+=1\n",
      "reversed=\"\"\n",
      "for i in encrypted:\n",
      "    reversed=i+reversed\n",
      "print \"ENCODED message: \"+reversed\n",
      "# Decode\n",
      "# First invert the string\n",
      "rightorder=\"\"\n",
      "for i in reversed:\n",
      "    rightorder=i+rightorder\n",
      "# Then subtract j%5\n",
      "j=1\n",
      "decoded=\"\"\n",
      "for i in rightorder:\n",
      "    decoded=decoded+chr(ord(i)-j%5)\n",
      "    j+=1\n",
      "print \"DECODED message: \"+decoded"
     ],
     "language": "python",
     "metadata": {},
     "outputs": [
      {
       "output_type": "stream",
       "stream": "stdout",
       "text": [
        "ENCODED message: 0fm$kvjw$qcfcs#git$vfsa{rv!skqkmeii\"fmev\"fhx#{mrehp!yvhx!hwltfhg#.selwq!rs#gnix#gnow#.fevjge vlgit$qk!nip\"mle#vtoqoc!,xl\"xern\"uuf#{fhx#hJ $1ujhx#pj kqktivstvs$jpjhxrp!sm#gselW\"!.tljt ikv!ox#glax#{mtilwr M#=erszu!smk\"ootx\"glivojh$vyprlw\"pteF\"ismuwplj#nbcmkrpssokip$d\"itmZ\"!.pocc hqc!lswujp$uqg iwwuixvdvs$|o!sm#ujhX#\"/nef\"J wd\"oosv\"ta$dgt sw\"uek#qu ipku ljki xl\"unyreda$L\"-nikv.-jiq!sxdj!s+hnqois\"hnmnepno#{mlefkeolwgn hqc!,xhgstw#git$rvoi$jpjpthvt }oguavhdjlig\"novi\"fm$wpfviur!ox#gmpmfpjrt#nbrsp\"hnsuvt e#ufrmxsfr$wk!tekv!,ip\"go$gpbh$ugqpy#pb lfwt xhi!sss{i }p\"sezhpfh{#{mlelefpwh\"ene#=ueip\"J pdtfnyi\"zriyg!fs#tbev#git$sw!grlioive\"ene#.tewxqievdy!nmihpc$htpfie\"hnmvwbp$|njrewpvlsypj jogtyq#foij#K!riygoelz\"<lyru!yq#pj vhdnezrP!yp}|jrh#.qmeg\"b wl\"ui$ugwerhjx ?kvvoq#git$wwpbe#ojrk#ioi{rth jogtyq#foij#K!riygoelZ\"!.rrkuapxesig#git$jpjteowhev#foa$qgfltv\"fhx#hgo$jpjvmuf!fs#gwal#K!yez\"b wl\"uI$#0elvry!elw\"go$wtbp$|tftez\"fhx#gfs$gpb iovuip#c!tyrdb plct howpw$L\"uhkxqit$L\"-evrjt rr\"fm$wufriwpj sw\"sapxejtvdr!grljuor#foa$/gtrys\"zm$qk!yiqqn sq\"so$hnutmo\"hnmyci-1|nfsmfgsp$jppl$zqi hqkn vhxfn10qha$vtbe}#gnoW#\"/lidoisM#gn pocD\n",
        "DECODED message: Call me Ishmael.  Some years ago--never mind how long precisely--having little or no money in my purse, and nothing particular to interest me on shore, I thought I would sail about a little and see the watery part of the world.  It is a way I have of driving off the spleen and regulating the circulation.  Whenever I find myself growing grim about the mouth; whenever it is a damp, drizzly November in my soul; whenever I find myself involuntarily pausing before coffin warehouses, and bringing up the rear of every funeral I meet; and especially whenever my hypos get such an upper hand of me, that it requires a strong moral principle to prevent me from deliberately stepping into the street, and methodically knocking people's hats off--then, I account it high time to get to sea as soon as I can.  This is my substitute for pistol and ball.  With a philosophical flourish Cato throws himself upon his sword; I quietly take to the ship.  There is nothing surprising in this.  If they but knew it, almost all men in their degree, some time or other, cherish very nearly the same feelings towards the ocean with me.\n"
       ]
      }
     ],
     "prompt_number": 5
    },
    {
     "cell_type": "code",
     "collapsed": false,
     "input": [
      "nicemess=\"\"\n",
      "k=1\n",
      "for i in reversed:\n",
      "    if k%40 ==0:\n",
      "        coda=\"\\n\"\n",
      "    else:\n",
      "        coda=\"\"\n",
      "    k+=1\n",
      "    nicemess=nicemess+i+coda\n",
      "print nicemess"
     ],
     "language": "python",
     "metadata": {},
     "outputs": [
      {
       "output_type": "stream",
       "stream": "stdout",
       "text": [
        "0fm$kvjw$qcfcs#git$vfsa{rv!skqkmeii\"fmev\n",
        "\"fhx#{mrehp!yvhx!hwltfhg#.selwq!rs#gnix#\n",
        "gnow#.fevjge vlgit$qk!nip\"mle#vtoqoc!,xl\n",
        "\"xern\"uuf#{fhx#hJ $1ujhx#pj kqktivstvs$j\n",
        "pjhxrp!sm#gselW\"!.tljt ikv!ox#glax#{mtil\n",
        "wr M#=erszu!smk\"ootx\"glivojh$vyprlw\"pteF\n",
        "\"ismuwplj#nbcmkrpssokip$d\"itmZ\"!.pocc hq\n",
        "c!lswujp$uqg iwwuixvdvs$|o!sm#ujhX#\"/nef\n",
        "\"J wd\"oosv\"ta$dgt sw\"uek#qu ipku ljki xl\n",
        "\"unyreda$L\"-nikv.-jiq!sxdj!s+hnqois\"hnmn\n",
        "epno#{mlefkeolwgn hqc!,xhgstw#git$rvoi$j\n",
        "pjpthvt }oguavhdjlig\"novi\"fm$wpfviur!ox#\n",
        "gmpmfpjrt#nbrsp\"hnsuvt e#ufrmxsfr$wk!tek\n",
        "v!,ip\"go$gpbh$ugqpy#pb lfwt xhi!sss{i }p\n",
        "\"sezhpfh{#{mlelefpwh\"ene#=ueip\"J pdtfnyi\n",
        "\"zriyg!fs#tbev#git$sw!grlioive\"ene#.tewx\n",
        "qievdy!nmihpc$htpfie\"hnmvwbp$|njrewpvlsy\n",
        "pj jogtyq#foij#K!riygoelz\"<lyru!yq#pj vh\n",
        "dnezrP!yp}|jrh#.qmeg\"b wl\"ui$ugwerhjx ?k\n",
        "vvoq#git$wwpbe#ojrk#ioi{rth jogtyq#foij#\n",
        "K!riygoelZ\"!.rrkuapxesig#git$jpjteowhev#\n",
        "foa$qgfltv\"fhx#hgo$jpjvmuf!fs#gwal#K!yez\n",
        "\"b wl\"uI$#0elvry!elw\"go$wtbp$|tftez\"fhx#\n",
        "gfs$gpb iovuip#c!tyrdb plct howpw$L\"uhkx\n",
        "qit$L\"-evrjt rr\"fm$wufriwpj sw\"sapxejtvd\n",
        "r!grljuor#foa$/gtrys\"zm$qk!yiqqn sq\"so$h\n",
        "nutmo\"hnmyci-1|nfsmfgsp$jppl$zqi hqkn vh\n",
        "xfn10qha$vtbe}#gnoW#\"/lidoisM#gn pocD\n"
       ]
      }
     ],
     "prompt_number": 129
    }
   ],
   "metadata": {}
  }
 ]
}