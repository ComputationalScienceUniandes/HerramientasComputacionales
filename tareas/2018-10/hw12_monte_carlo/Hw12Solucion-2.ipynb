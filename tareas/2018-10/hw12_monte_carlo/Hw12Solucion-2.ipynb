{
 "cells": [
  {
   "cell_type": "code",
   "execution_count": 1,
   "metadata": {},
   "outputs": [
    {
     "name": "stdout",
     "output_type": "stream",
     "text": [
      "Populating the interactive namespace from numpy and matplotlib\n"
     ]
    }
   ],
   "source": [
    "%pylab inline "
   ]
  },
  {
   "cell_type": "code",
   "execution_count": 6,
   "metadata": {
    "collapsed": true
   },
   "outputs": [],
   "source": [
    "a=3\n",
    "x=linspace(0,10,100)\n",
    "ydat=a*x + 10*random.normal(0,0.2,100)\n",
    "\n"
   ]
  },
  {
   "cell_type": "code",
   "execution_count": 7,
   "metadata": {},
   "outputs": [
    {
     "data": {
      "text/plain": [
       "[<matplotlib.lines.Line2D at 0x1122ba908>]"
      ]
     },
     "execution_count": 7,
     "metadata": {},
     "output_type": "execute_result"
    },
    {
     "data": {
      "image/png": "[encoded data removed]",
      "text/plain": [
       "<matplotlib.figure.Figure at 0x10ee23a58>"
      ]
     },
     "metadata": {},
     "output_type": "display_data"
    }
   ],
   "source": [
    "np.savetxt('datosLineales.txt', (x,ydat), delimiter=' ')\n",
    "\n",
    "xdat,ydat=np.loadtxt('datosLineales.txt')\n",
    "plot(x,ydat,'ko')\n"
   ]
  },
  {
   "cell_type": "code",
   "execution_count": 8,
   "metadata": {},
   "outputs": [
    {
     "data": {
      "text/plain": [
       "<matplotlib.collections.PathCollection at 0x112319780>"
      ]
     },
     "execution_count": 8,
     "metadata": {},
     "output_type": "execute_result"
    },
    {
     "data": {
      "image/png": "[encoded data removed]",
      "text/plain": [
       "<matplotlib.figure.Figure at 0x1122ac588>"
      ]
     },
     "metadata": {},
     "output_type": "display_data"
    }
   ],
   "source": [
    "scatter(xdat,ydat)"
   ]
  },
  {
   "cell_type": "code",
   "execution_count": 15,
   "metadata": {
    "collapsed": true
   },
   "outputs": [],
   "source": [
    "def chisq(ydat,yteo):\n",
    "    return sum((ydat-yteo)**2)/size(ydat)"
   ]
  },
  {
   "cell_type": "code",
   "execution_count": 16,
   "metadata": {
    "collapsed": true
   },
   "outputs": [],
   "source": [
    "def model(a,x):\n",
    "    return a*x\n",
    "\n"
   ]
  },
  {
   "cell_type": "code",
   "execution_count": 18,
   "metadata": {},
   "outputs": [],
   "source": [
    "M=100000\n",
    "walk=[]\n",
    "walk.append(random.random())\n",
    "for i in range(M):\n",
    "    yteo0=model(walk[-1],x)\n",
    "    aprime=walk[-1]+random.normal(0,0.1)\n",
    "    yteo1=model(aprime,x)\n",
    "    prob0=exp(-chisq(ydat,yteo0))\n",
    "    prob1=exp(-chisq(ydat,yteo1))\n",
    "    alpha=prob1/prob0\n",
    "    beta=random.random()\n",
    "    if alpha>=1:\n",
    "        walk.append(aprime)\n",
    "    elif beta<alpha:\n",
    "        walk.append(aprime)\n",
    "    else:\n",
    "        walk.append(walk[-1])"
   ]
  },
  {
   "cell_type": "code",
   "execution_count": 19,
   "metadata": {},
   "outputs": [
    {
     "data": {
      "text/plain": [
       "(array([  1.20000000e+01,   7.00000000e+00,   9.00000000e+00,\n",
       "          5.00000000e+00,   8.00000000e+00,   5.00000000e+00,\n",
       "          1.10000000e+01,   9.45000000e+03,   8.37000000e+04,\n",
       "          6.79400000e+03]),\n",
       " array([ 0.12597729,  0.46948012,  0.81298294,  1.15648577,  1.4999886 ,\n",
       "         1.84349142,  2.18699425,  2.53049707,  2.8739999 ,  3.21750272,\n",
       "         3.56100555]),\n",
       " <a list of 10 Patch objects>)"
      ]
     },
     "execution_count": 19,
     "metadata": {},
     "output_type": "execute_result"
    },
    {
     "data": {
      "image/png": "[encoded data removed]",
      "text/plain": [
       "<matplotlib.figure.Figure at 0x11260d1d0>"
      ]
     },
     "metadata": {},
     "output_type": "display_data"
    }
   ],
   "source": [
    "hist(walk)"
   ]
  },
  {
   "cell_type": "code",
   "execution_count": null,
   "metadata": {},
   "outputs": [],
   "source": []
  },
  {
   "cell_type": "code",
   "execution_count": null,
   "metadata": {
    "collapsed": true
   },
   "outputs": [],
   "source": []
  }
 ],
 "metadata": {
  "kernelspec": {
   "display_name": "Python 3",
   "language": "python",
   "name": "python3"
  },
  "language_info": {
   "codemirror_mode": {
    "name": "ipython",
    "version": 3
   },
   "file_extension": ".py",
   "mimetype": "text/x-python",
   "name": "python",
   "nbconvert_exporter": "python",
   "pygments_lexer": "ipython3",
   "version": "3.6.3"
  }
 },
 "nbformat": 4,
 "nbformat_minor": 2
}
