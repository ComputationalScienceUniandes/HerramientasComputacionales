{
 "cells": [
  {
   "cell_type": "code",
   "execution_count": 1,
   "metadata": {
    "collapsed": false
   },
   "outputs": [
    {
     "name": "stdout",
     "output_type": "stream",
     "text": [
      "Populating the interactive namespace from numpy and matplotlib\n"
     ]
    }
   ],
   "source": [
    "%pylab inline"
   ]
  },
  {
   "cell_type": "markdown",
   "metadata": {},
   "source": [
    "# Punto 2"
   ]
  },
  {
   "cell_type": "code",
   "execution_count": 2,
   "metadata": {
    "collapsed": true
   },
   "outputs": [],
   "source": [
    "# Esta funcion retorna la suma de n lanzamientos de un dado cargado\n",
    "# Las probabilidades del dado son P ([1, 2, 3, 4, 5, 6]) = [0.2, 0.1, 0.2, 0.3, 0.1, 0.1]\n",
    "def get_sum(n):\n",
    "    return sum(np.random.choice( a = [1,2,3,4,5,6], size = n, p = [0.2,0.1,0.2,0.3,0.1,0.1]))"
   ]
  },
  {
   "cell_type": "markdown",
   "metadata": {},
   "source": [
    "# Punto 3"
   ]
  },
  {
   "cell_type": "code",
   "execution_count": 3,
   "metadata": {
    "collapsed": true
   },
   "outputs": [],
   "source": [
    "# Esta funcion repite m veces la suma de n lanzamientos de un dado cargado(igual al anterior)\n",
    "# Tiramos n veces el dado y obtenemos una suma\n",
    "# Queremos m resultados de esta suma\n",
    "def repeat_sum(m,n):\n",
    "    sum_list = [] # inicializamos la lista donde guardaremos la suma\n",
    "    for i in range(m): # iteramos m veces\n",
    "        sum_list.append(get_sum(n)) # llamamos cada vez a nuestro metodo get_sum\n",
    "    return sum_list # retornamos sum_list        "
   ]
  },
  {
   "cell_type": "markdown",
   "metadata": {},
   "source": [
    "# Punto 4"
   ]
  },
  {
   "cell_type": "code",
   "execution_count": 4,
   "metadata": {
    "collapsed": false
   },
   "outputs": [
    {
     "name": "stdout",
     "output_type": "stream",
     "text": [
      "El promedio es: 33.0029\n",
      "La desviacion estandar es: 4.97510719382\n"
     ]
    }
   ],
   "source": [
    "# Llamamos la funcion repeat_sum con m = 10000 y n = 10\n",
    "m = 10000\n",
    "n = 10\n",
    "lista_vals = repeat_sum(m,n) # guardamos el resultado en lista_vals\n",
    "\n",
    "# Caracterizamos la distribucion con el promedio y la desviacion estandar\n",
    "prom = np.mean(lista_vals)\n",
    "desvest = np.std(lista_vals)\n",
    "print(\"El promedio es: \"+ str(prom))\n",
    "print(\"La desviacion estandar es: \"+str(desvest))"
   ]
  },
  {
   "cell_type": "code",
   "execution_count": 8,
   "metadata": {
    "collapsed": false
   },
   "outputs": [
    {
     "data": {
      "text/plain": [
       "<matplotlib.legend.Legend at 0x7f97977ddcc0>"
      ]
     },
     "execution_count": 8,
     "metadata": {},
     "output_type": "execute_result"
    },
    {
     "data": {
      "image/png": "[encoded data removed]",
      "text/plain": [
       "<matplotlib.figure.Figure at 0x7f97978131d0>"
      ]
     },
     "metadata": {},
     "output_type": "display_data"
    }
   ],
   "source": [
    "# Realizamos el histograma\n",
    "plt.hist(lista_vals, normed = True, bins = np.arange(50)+0.5, label = 'Lanzamientos simulados') # Las sumas pueden tomar unicamente valores enteros, de ahi el arange\n",
    "\n",
    "# Para graficar la gaussiana tenemos que definir la funcion primero\n",
    "# Esta funcion retorna el valor de una gaussiana de promedio chi y desviacion estandar sigma, en la posicion x\n",
    "def gauss(x,chi,sigma):\n",
    "    return (1./np.sqrt(2*np.pi*(sigma**2)))*np.exp(- 0.5*((x-chi)/sigma)**2 )\n",
    "\n",
    "# Graficamos la gaussiana con un linspace\n",
    "x = np.linspace(0,50,1000) # El rango de sumas\n",
    "y = gauss(x,prom,desvest) # El valor de la gaussiana con promedio y desvest ya calculados\n",
    "plt.plot(x,y,label = 'Predicion del TLC')\n",
    "\n",
    "# Labels, titulo y leyend\n",
    "plt.title(\"Teorema del Limite Central (TLC)\")\n",
    "plt.xlabel(\"Valores de la suma de lanzamiento de dados\")\n",
    "plt.ylabel(\"Probabilidad\")\n",
    "plt.legend(loc = 0)\n",
    "\n",
    "\n"
   ]
  },
  {
   "cell_type": "code",
   "execution_count": null,
   "metadata": {
    "collapsed": true
   },
   "outputs": [],
   "source": []
  }
 ],
 "metadata": {
  "kernelspec": {
   "display_name": "Python 3",
   "language": "python",
   "name": "python3"
  },
  "language_info": {
   "codemirror_mode": {
    "name": "ipython",
    "version": 3
   },
   "file_extension": ".py",
   "mimetype": "text/x-python",
   "name": "python",
   "nbconvert_exporter": "python",
   "pygments_lexer": "ipython3",
   "version": "3.5.2"
  }
 },
 "nbformat": 4,
 "nbformat_minor": 2
}
