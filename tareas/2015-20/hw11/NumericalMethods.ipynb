{
 "cells": [
  {
   "cell_type": "markdown",
   "metadata": {},
   "source": [
    "# First, a brute force method, scanning over certain domain to check if there is a change in the function sign at that point."
   ]
  },
  {
   "cell_type": "code",
   "execution_count": 1,
   "metadata": {
    "collapsed": false
   },
   "outputs": [
    {
     "name": "stdout",
     "output_type": "stream",
     "text": [
      "Populating the interactive namespace from numpy and matplotlib\n"
     ]
    }
   ],
   "source": [
    "%pylab inline"
   ]
  },
  {
   "cell_type": "code",
   "execution_count": 2,
   "metadata": {
    "collapsed": true
   },
   "outputs": [],
   "source": [
    "def function(x):\n",
    "    return sin(x)\n",
    "    "
   ]
  },
  {
   "cell_type": "code",
   "execution_count": 3,
   "metadata": {
    "collapsed": false,
    "scrolled": true
   },
   "outputs": [
    {
     "name": "stdout",
     "output_type": "stream",
     "text": [
      "Zero found near 8.81239525796e-16\n",
      "Zero found near 3.142\n",
      "Zero found near 6.284\n"
     ]
    }
   ],
   "source": [
    "width = 0.001 # Smaller step values produce more accurate and precise results\n",
    "start = -1.0\n",
    "stop = 7.0\n",
    "\n",
    "FuncSign = function(start) > 0\n",
    "\n",
    "x = start\n",
    "while x <= stop:\n",
    "    value = function(x)\n",
    " \n",
    "    if value == 0:\n",
    "        # We hit a root\n",
    "        print \"Zero found at\", x\n",
    "    elif (value > 0) != FuncSign:\n",
    "        # We passed a root\n",
    "        print \"Zero found near\", x\n",
    " \n",
    "    # Update our sign\n",
    "    FuncSign = value > 0\n",
    " \n",
    "    x += width"
   ]
  },
  {
   "cell_type": "code",
   "execution_count": 4,
   "metadata": {
    "collapsed": false
   },
   "outputs": [
    {
     "data": {
      "text/plain": [
       "<matplotlib.lines.Line2D at 0x3242290>"
      ]
     },
     "execution_count": 4,
     "metadata": {},
     "output_type": "execute_result"
    },
    {
     "data": {
      "image/png": "[encoded data removed]",
      "text/plain": [
       "<matplotlib.figure.Figure at 0x317f810>"
      ]
     },
     "metadata": {},
     "output_type": "display_data"
    }
   ],
   "source": [
    "X = np.linspace(start,stop,100)\n",
    "Y = function(X)\n",
    "plot(X,Y)\n",
    "axhline(0,c='k')"
   ]
  },
  {
   "cell_type": "markdown",
   "metadata": {},
   "source": [
    "# Now we could try the bisection method, halving the search space with every step"
   ]
  },
  {
   "cell_type": "code",
   "execution_count": 5,
   "metadata": {
    "collapsed": false
   },
   "outputs": [
    {
     "name": "stdout",
     "output_type": "stream",
     "text": [
      "3.14159265906\n"
     ]
    }
   ],
   "source": [
    "def bisection(a,b,tol):\n",
    "    if function(a)*function(b)>0:\n",
    "        raise Exception('No change of sign - bisection not possible')      \n",
    "    c = (a+b)/2.0\n",
    "    while (b-a)/2.0 > tol:\n",
    "        if function(c) == 0:\n",
    "            return c\n",
    "        elif function(a)*function(c) < 0:\n",
    "            b = c\n",
    "        else :\n",
    "            a = c\n",
    "        c = (a+b)/2.0\n",
    "\n",
    "    return c\n",
    "\n",
    "print bisection(2, 4, 0.00000001)"
   ]
  },
  {
   "cell_type": "markdown",
   "metadata": {},
   "source": [
    "# And finally, the Newton-Raphson method"
   ]
  },
  {
   "cell_type": "code",
   "execution_count": 6,
   "metadata": {
    "collapsed": false
   },
   "outputs": [
    {
     "name": "stdout",
     "output_type": "stream",
     "text": [
      "3.14159265359\n"
     ]
    }
   ],
   "source": [
    "def f_prime(x):\n",
    "    h=0.0001\n",
    "    return (function(x+h)-function(x-h))/(2*h)\n",
    "    \n",
    "def newt(x,n):\n",
    "\tfor i in range(n):\n",
    "\t\tif f_prime(x) == 0:\n",
    "\t\t\treturn x\n",
    "\t\tx = x - function(x)/f_prime(x)\n",
    "\treturn x\n",
    "\n",
    "print newt(2, 10)"
   ]
  },
  {
   "cell_type": "code",
   "execution_count": null,
   "metadata": {
    "collapsed": true
   },
   "outputs": [],
   "source": []
  }
 ],
 "metadata": {
  "kernelspec": {
   "display_name": "Python 2",
   "language": "python",
   "name": "python2"
  },
  "language_info": {
   "codemirror_mode": {
    "name": "ipython",
    "version": 2
   },
   "file_extension": ".py",
   "mimetype": "text/x-python",
   "name": "python",
   "nbconvert_exporter": "python",
   "pygments_lexer": "ipython2",
   "version": "2.7.5+"
  }
 },
 "nbformat": 4,
 "nbformat_minor": 0
}
